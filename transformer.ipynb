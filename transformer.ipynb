{
 "cells": [
  {
   "cell_type": "code",
   "execution_count": 0,
   "metadata": {
    "application/vnd.databricks.v1+cell": {
     "cellMetadata": {
      "byteLimit": 2048000,
      "rowLimit": 10000
     },
     "inputWidgets": {},
     "nuid": "51a3814e-6e82-412d-a323-0e3434b90837",
     "showTitle": false,
     "tableResultSettingsMap": {},
     "title": ""
    }
   },
   "outputs": [],
   "source": [
    "%run \"./reader_factory\""
   ]
  },
  {
   "cell_type": "code",
   "execution_count": 0,
   "metadata": {
    "application/vnd.databricks.v1+cell": {
     "cellMetadata": {
      "byteLimit": 2048000,
      "rowLimit": 10000
     },
     "inputWidgets": {},
     "nuid": "6f350b09-e60c-4744-b179-73b819a9fff5",
     "showTitle": false,
     "tableResultSettingsMap": {},
     "title": ""
    }
   },
   "outputs": [],
   "source": [
    "from pyspark.sql.window import Window\n",
    "from pyspark.sql.functions import col, lead, broadcast, collect_set, size, array_contains\n",
    "\n",
    "class Transformer:\n",
    "\n",
    "    def __init__(self):\n",
    "        pass\n",
    "\n",
    "    def transform(self, inputDFs):\n",
    "        pass\n",
    "\n",
    "class AirpodsAfterIphoneTransformer(Transformer):\n",
    "\n",
    "    def transform(self, inputDFs):\n",
    "        transactionInputDF = inputDFs.get(\"transactionInputDF\")\n",
    "\n",
    "        windowSpec = Window.partitionBy(\"customer_id\").orderBy(\"transaction_date\")\n",
    "        transformedDF = transactionInputDF.withColumn(\n",
    "            \"next_product_name\", lead(\"product_name\").over(windowSpec)\n",
    "        )\n",
    "    \n",
    "        filteredDF = transformedDF.filter(\n",
    "            (col(\"product_name\") == \"iPhone\") & (col(\"next_product_name\") == \"AirPods\")\n",
    "        )\n",
    "\n",
    "        customerInputDF = inputDFs.get(\"customerInputDF\")\n",
    "        joinDF = customerInputDF.join(\n",
    "            broadcast(filteredDF),\n",
    "            \"customer_id\"\n",
    "            )\n",
    "\n",
    "        return joinDF.select(\"customer_id\", \"customer_name\", \"location\")\n",
    "\n",
    "class OnlyAirpodsAndIphoneTransformer(Transformer):\n",
    "\n",
    "    def transform(self, inputDFs):\n",
    "\n",
    "        transactionInputDF = inputDFs.get(\"transactionInputDF\")\n",
    "        groupedDF = transactionInputDF.groupBy(\"customer_id\").agg(\n",
    "            collect_set(\"product_name\").alias(\"products\")\n",
    "        )\n",
    "\n",
    "        filteredDF = groupedDF.filter(\n",
    "            (array_contains(col(\"products\"), \"iPhone\")) & \n",
    "            (array_contains(col(\"products\"), \"AirPods\")) &\n",
    "            (size(col(\"products\")) == 2)\n",
    "        )\n",
    "        \n",
    "        customerInputDF = inputDFs.get(\"customerInputDF\")\n",
    "        joinDF = customerInputDF.join(\n",
    "            broadcast(filteredDF),\n",
    "            \"customer_id\"\n",
    "            )\n",
    "        \n",
    "        return joinDF.select(\"customer_id\", \"customer_name\", \"location\")\n",
    "            "
   ]
  }
 ],
 "metadata": {
  "application/vnd.databricks.v1+notebook": {
   "computePreferences": null,
   "dashboards": [],
   "environmentMetadata": {
    "base_environment": "",
    "environment_version": "2"
   },
   "language": "python",
   "notebookMetadata": {
    "pythonIndentUnit": 4
   },
   "notebookName": "transformer",
   "widgets": {}
  },
  "language_info": {
   "name": "python"
  }
 },
 "nbformat": 4,
 "nbformat_minor": 0
}