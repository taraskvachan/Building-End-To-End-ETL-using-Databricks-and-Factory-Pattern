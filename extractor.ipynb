{
 "cells": [
  {
   "cell_type": "code",
   "execution_count": 0,
   "metadata": {
    "application/vnd.databricks.v1+cell": {
     "cellMetadata": {
      "byteLimit": 2048000,
      "rowLimit": 10000
     },
     "inputWidgets": {},
     "nuid": "afceaec6-dca1-46d7-ad90-8c0426985725",
     "showTitle": false,
     "tableResultSettingsMap": {},
     "title": ""
    }
   },
   "outputs": [],
   "source": [
    "class Extractor:\n",
    "\n",
    "    def __init__(self):\n",
    "        pass\n",
    "\n",
    "    def extract(self):\n",
    "        pass\n",
    "\n",
    "class AirpodsAfterIPhone(Extractor):\n",
    "    \n",
    "    def extract(self):\n",
    "        transactionInputDF = get_data_source(\n",
    "            data_type = \"csv\",\n",
    "            file_path = \"/Volumes/apple_analysis/apple/apple_volume/Transaction_Updated.csv\"\n",
    "        ).get_data_frame()\n",
    "\n",
    "        customerInputDF = get_data_source(\n",
    "            data_type = \"delta\",\n",
    "            file_path = \"apple_analysis.apple.customer_updated\"\n",
    "        ).get_data_frame()\n",
    "\n",
    "        indiptDfs = {\n",
    "            \"transactionInputDF\": transactionInputDF,\n",
    "            \"customerInputDF\": customerInputDF\n",
    "        }\n",
    "\n",
    "        return indiptDfs"
   ]
  }
 ],
 "metadata": {
  "application/vnd.databricks.v1+notebook": {
   "computePreferences": null,
   "dashboards": [],
   "environmentMetadata": {
    "base_environment": "",
    "environment_version": "2"
   },
   "language": "python",
   "notebookMetadata": {
    "pythonIndentUnit": 4
   },
   "notebookName": "extractor",
   "widgets": {}
  },
  "language_info": {
   "name": "python"
  }
 },
 "nbformat": 4,
 "nbformat_minor": 0
}