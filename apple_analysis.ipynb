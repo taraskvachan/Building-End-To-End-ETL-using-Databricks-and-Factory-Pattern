{
 "cells": [
  {
   "cell_type": "code",
   "execution_count": 0,
   "metadata": {
    "application/vnd.databricks.v1+cell": {
     "cellMetadata": {
      "byteLimit": 2048000,
      "rowLimit": 10000
     },
     "inputWidgets": {},
     "nuid": "23a2fc4b-8578-4cb3-b855-78f137de6534",
     "showTitle": false,
     "tableResultSettingsMap": {},
     "title": ""
    }
   },
   "outputs": [],
   "source": [
    "%run \"./loader\""
   ]
  },
  {
   "cell_type": "code",
   "execution_count": 0,
   "metadata": {
    "application/vnd.databricks.v1+cell": {
     "cellMetadata": {
      "byteLimit": 2048000,
      "rowLimit": 10000
     },
     "inputWidgets": {},
     "nuid": "77e005e0-0713-4ab6-92a5-2ab55cbaba24",
     "showTitle": false,
     "tableResultSettingsMap": {},
     "title": ""
    }
   },
   "outputs": [],
   "source": [
    "%run \"./transformer\""
   ]
  },
  {
   "cell_type": "code",
   "execution_count": 0,
   "metadata": {
    "application/vnd.databricks.v1+cell": {
     "cellMetadata": {
      "byteLimit": 2048000,
      "rowLimit": 10000
     },
     "inputWidgets": {},
     "nuid": "8ff0582f-0310-46e9-8d23-502475edcfc1",
     "showTitle": false,
     "tableResultSettingsMap": {},
     "title": ""
    }
   },
   "outputs": [],
   "source": [
    "%run \"./extractor\""
   ]
  },
  {
   "cell_type": "code",
   "execution_count": 0,
   "metadata": {
    "application/vnd.databricks.v1+cell": {
     "cellMetadata": {
      "byteLimit": 2048000,
      "rowLimit": 10000
     },
     "inputWidgets": {},
     "nuid": "896967eb-cc78-47dc-a549-bf8ad6570134",
     "showTitle": false,
     "tableResultSettingsMap": {},
     "title": ""
    }
   },
   "outputs": [],
   "source": [
    "class FirstWorkFlow:\n",
    "    \"\"\"\n",
    "    ETL pip to generate the data for all customers who have bought Airpods after an iPhone.\n",
    "    \"\"\"\n",
    "\n",
    "    def __init__(self):\n",
    "        pass\n",
    "\n",
    "    def runner(self):\n",
    "\n",
    "        # Step 1 Extract data from different source\n",
    "        inputDFs = AirpodsAfterIPhone().extract()\n",
    "\n",
    "        # Step 2 Implement the Transformation logic\n",
    "        firstTransformedDF = AirpodsAfterIphoneTransformer().transform(inputDFs)\n",
    "\n",
    "        # Step 3.1 Save data as Delta Table\n",
    "        AirpodsAfterIPhoneLoader(firstTransformedDF).sink()\n",
    "        "
   ]
  },
  {
   "cell_type": "code",
   "execution_count": 0,
   "metadata": {
    "application/vnd.databricks.v1+cell": {
     "cellMetadata": {
      "byteLimit": 2048000,
      "rowLimit": 10000
     },
     "inputWidgets": {},
     "nuid": "38b99210-7af8-436c-a4c4-a4f52d2b9408",
     "showTitle": false,
     "tableResultSettingsMap": {},
     "title": ""
    }
   },
   "outputs": [],
   "source": [
    "class SecondWorkFlow:\n",
    "    \"\"\"\n",
    "    ETL pip to generate the data for all customers who have bought only Airpods and iPhone.\n",
    "    \"\"\"\n",
    "\n",
    "    def __init__(self):\n",
    "        pass\n",
    "\n",
    "    def runner(self):\n",
    "        \n",
    "        # Step 1 Extract data from different source\n",
    "        inputDFs = AirpodsAfterIPhone().extract()\n",
    "\n",
    "        # Step 2 Implement the Transformation logic\n",
    "        onlyAirpodsAndIPhoneDF = OnlyAirpodsAndIphoneTransformer().transform(inputDFs)\n",
    "\n",
    "        # Step 3.1 Load data to DBFS\n",
    "        OnlyAirpodsAndIPhoneLoader(onlyAirpodsAndIPhoneDF).sink()\n",
    "\n",
    "        # Step 3.2 Load data to DBFS with partition\n",
    "        OnlyAirpodsAndIPhoneLoaderWithPartition(onlyAirpodsAndIPhoneDF).sink()"
   ]
  },
  {
   "cell_type": "code",
   "execution_count": 0,
   "metadata": {
    "application/vnd.databricks.v1+cell": {
     "cellMetadata": {
      "byteLimit": 2048000,
      "rowLimit": 10000
     },
     "inputWidgets": {},
     "nuid": "7021f504-595d-496a-a9d2-b93f046b626a",
     "showTitle": false,
     "tableResultSettingsMap": {},
     "title": ""
    }
   },
   "outputs": [],
   "source": [
    "class WorkFlowRunner:\n",
    "\n",
    "    def __init__(self, name):\n",
    "        self.name = name\n",
    "\n",
    "    def runner(self):\n",
    "        if self.name == \"firstWorkFlow\":\n",
    "            return  FirstWorkFlow().runner()\n",
    "        elif self.name == \"secondWorkFlow\":\n",
    "            return  SecondWorkFlow().runner()\n",
    "        else:\n",
    "            print(\"Invalid name\")\n",
    "        \n",
    "\n",
    "name_one = \"firstWorkFlow\"\n",
    "name_two = \"secondWorkFlow\"\n",
    "workFlowRunnerOne = WorkFlowRunner(name_one).runner() \n",
    "workFlowRunnerTwo = WorkFlowRunner(name_two).runner() "
   ]
  }
 ],
 "metadata": {
  "application/vnd.databricks.v1+notebook": {
   "computePreferences": null,
   "dashboards": [],
   "environmentMetadata": {
    "base_environment": "",
    "environment_version": "2"
   },
   "language": "python",
   "notebookMetadata": {
    "pythonIndentUnit": 4
   },
   "notebookName": "apple_analysis",
   "widgets": {}
  },
  "language_info": {
   "name": "python"
  }
 },
 "nbformat": 4,
 "nbformat_minor": 0
}