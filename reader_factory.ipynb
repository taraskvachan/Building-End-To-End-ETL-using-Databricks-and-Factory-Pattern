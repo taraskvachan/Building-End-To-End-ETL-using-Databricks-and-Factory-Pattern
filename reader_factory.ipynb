{
 "cells": [
  {
   "cell_type": "code",
   "execution_count": 0,
   "metadata": {
    "application/vnd.databricks.v1+cell": {
     "cellMetadata": {
      "byteLimit": 2048000,
      "rowLimit": 10000
     },
     "inputWidgets": {},
     "nuid": "6d572dbd-4fb1-42a4-bc0b-729eaa1ad28c",
     "showTitle": false,
     "tableResultSettingsMap": {},
     "title": ""
    }
   },
   "outputs": [],
   "source": [
    "class DataSource:\n",
    "    \n",
    "    def __init__(self, path):\n",
    "        self.path = path \n",
    "\n",
    "    def get_data_frame(self):     \n",
    "        raise ValueError(\"Not implemented\")\n",
    "\n",
    "class CSVDataSource(DataSource):\n",
    "\n",
    "    def get_data_frame(self):\n",
    "        return spark.read.format(\"csv\").option(\"header\", \"true\").load(self.path)\n",
    "\n",
    "class ParquetDataSource(DataSource):\n",
    "     \n",
    "    def get_data_frame(self):\n",
    "        return spark.read.format(\"parquet\").load(self.path)\n",
    "     \n",
    "class DeltaDataSource(DataSource):\n",
    "    \n",
    "   \n",
    "    def get_data_frame(self):\n",
    "        table_name = self.path\n",
    "        return spark.read.table(table_name)\n",
    "\n",
    "def get_data_source(data_type, file_path):\n",
    "    if data_type == \"csv\":\n",
    "        return CSVDataSource(file_path)\n",
    "    elif data_type == \"parquet\":\n",
    "        return ParquetDataSource(file_path)\n",
    "    elif data_type == \"delta\":\n",
    "        return DeltaDataSource(file_path)\n",
    "    else:\n",
    "        raise ValueError(\"Invalid data type\")\n"
   ]
  }
 ],
 "metadata": {
  "application/vnd.databricks.v1+notebook": {
   "computePreferences": null,
   "dashboards": [],
   "environmentMetadata": {
    "base_environment": "",
    "environment_version": "2"
   },
   "language": "python",
   "notebookMetadata": {
    "pythonIndentUnit": 4
   },
   "notebookName": "reader_factory",
   "widgets": {}
  },
  "language_info": {
   "name": "python"
  }
 },
 "nbformat": 4,
 "nbformat_minor": 0
}